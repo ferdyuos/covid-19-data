{
 "cells": [
  {
   "attachments": {},
   "cell_type": "markdown",
   "metadata": {},
   "source": [
    "# BIG DATA : DATA PROCESSING AND ANALYSIS OF BRISTOL COVID-19 DATA\n",
    "\n"
   ]
  },
  {
   "cell_type": "code",
   "execution_count": 1,
   "metadata": {},
   "outputs": [
    {
     "name": "stderr",
     "output_type": "stream",
     "text": [
      "WARNING: An illegal reflective access operation has occurred\n",
      "WARNING: Illegal reflective access by org.apache.spark.unsafe.Platform (file:/Users/ferdyuos/opt/anaconda3/lib/python3.8/site-packages/pyspark/jars/spark-unsafe_2.12-3.2.1.jar) to constructor java.nio.DirectByteBuffer(long,int)\n",
      "WARNING: Please consider reporting this to the maintainers of org.apache.spark.unsafe.Platform\n",
      "WARNING: Use --illegal-access=warn to enable warnings of further illegal reflective access operations\n",
      "WARNING: All illegal access operations will be denied in a future release\n",
      "Using Spark's default log4j profile: org/apache/spark/log4j-defaults.properties\n",
      "Setting default log level to \"WARN\".\n",
      "To adjust logging level use sc.setLogLevel(newLevel). For SparkR, use setLogLevel(newLevel).\n",
      "22/09/18 17:21:32 WARN NativeCodeLoader: Unable to load native-hadoop library for your platform... using builtin-java classes where applicable\n"
     ]
    }
   ],
   "source": [
    "# entry point to using spark\n",
    "from pyspark.sql import SparkSession\n",
    "spark = SparkSession \\\n",
    "    .builder \\\n",
    "    .appName('COVID-19 Data') \\\n",
    "    .getOrCreate()"
   ]
  },
  {
   "cell_type": "code",
   "execution_count": 4,
   "metadata": {
    "collapsed": false,
    "pycharm": {
     "name": "#%%\n"
    }
   },
   "outputs": [
    {
     "data": {
      "text/plain": [
       "'3.2.1'"
      ]
     },
     "execution_count": 4,
     "metadata": {},
     "output_type": "execute_result"
    }
   ],
   "source": [
    "#checking which version of pyspark is running\n",
    "spark.version"
   ]
  },
  {
   "cell_type": "code",
   "execution_count": 5,
   "metadata": {},
   "outputs": [],
   "source": [
    "# read data as a pyspark dataframe\n",
    "df = (spark.read\n",
    "          .format(\"csv\")\n",
    "          .options(delimiter=\";\", header=True)\n",
    "          .load(\"covid-19-vaccinations.csv\"))"
   ]
  },
  {
   "cell_type": "code",
   "execution_count": 6,
   "metadata": {},
   "outputs": [
    {
     "name": "stderr",
     "output_type": "stream",
     "text": [
      "                                                                                \r"
     ]
    },
    {
     "data": {
      "text/html": [
       "<div>\n",
       "<style scoped>\n",
       "    .dataframe tbody tr th:only-of-type {\n",
       "        vertical-align: middle;\n",
       "    }\n",
       "\n",
       "    .dataframe tbody tr th {\n",
       "        vertical-align: top;\n",
       "    }\n",
       "\n",
       "    .dataframe thead th {\n",
       "        text-align: right;\n",
       "    }\n",
       "</style>\n",
       "<table border=\"1\" class=\"dataframe\">\n",
       "  <thead>\n",
       "    <tr style=\"text-align: right;\">\n",
       "      <th></th>\n",
       "      <th>Area name</th>\n",
       "      <th>Vaccination date</th>\n",
       "      <th>Age group</th>\n",
       "      <th>Cumulative first dose vaccinations</th>\n",
       "      <th>Cumulative second dose vaccinations</th>\n",
       "      <th>geo_point_2d</th>\n",
       "    </tr>\n",
       "  </thead>\n",
       "  <tbody>\n",
       "    <tr>\n",
       "      <th>0</th>\n",
       "      <td>South Gloucestershire</td>\n",
       "      <td>2021-07-07</td>\n",
       "      <td>55_59</td>\n",
       "      <td>19314</td>\n",
       "      <td>18704</td>\n",
       "      <td>51.5468677188,-2.47061248413</td>\n",
       "    </tr>\n",
       "    <tr>\n",
       "      <th>1</th>\n",
       "      <td>South Gloucestershire</td>\n",
       "      <td>2021-06-30</td>\n",
       "      <td>45_49</td>\n",
       "      <td>16964</td>\n",
       "      <td>11411</td>\n",
       "      <td>51.5468677188,-2.47061248413</td>\n",
       "    </tr>\n",
       "    <tr>\n",
       "      <th>2</th>\n",
       "      <td>South Gloucestershire</td>\n",
       "      <td>2021-06-30</td>\n",
       "      <td>50_54</td>\n",
       "      <td>19533</td>\n",
       "      <td>18814</td>\n",
       "      <td>51.5468677188,-2.47061248413</td>\n",
       "    </tr>\n",
       "    <tr>\n",
       "      <th>3</th>\n",
       "      <td>South Gloucestershire</td>\n",
       "      <td>2021-06-30</td>\n",
       "      <td>55_59</td>\n",
       "      <td>19298</td>\n",
       "      <td>18617</td>\n",
       "      <td>51.5468677188,-2.47061248413</td>\n",
       "    </tr>\n",
       "    <tr>\n",
       "      <th>4</th>\n",
       "      <td>South Gloucestershire</td>\n",
       "      <td>2021-07-06</td>\n",
       "      <td>75_79</td>\n",
       "      <td>11167</td>\n",
       "      <td>11080</td>\n",
       "      <td>51.5468677188,-2.47061248413</td>\n",
       "    </tr>\n",
       "    <tr>\n",
       "      <th>...</th>\n",
       "      <td>...</td>\n",
       "      <td>...</td>\n",
       "      <td>...</td>\n",
       "      <td>...</td>\n",
       "      <td>...</td>\n",
       "      <td>...</td>\n",
       "    </tr>\n",
       "    <tr>\n",
       "      <th>635524</th>\n",
       "      <td>Bristol, City of</td>\n",
       "      <td>2022-02-13</td>\n",
       "      <td>18_24</td>\n",
       "      <td>49507</td>\n",
       "      <td>43546</td>\n",
       "      <td>51.454513,-2.58791</td>\n",
       "    </tr>\n",
       "    <tr>\n",
       "      <th>635525</th>\n",
       "      <td>Bristol, City of</td>\n",
       "      <td>2022-02-13</td>\n",
       "      <td>60_64</td>\n",
       "      <td>20099</td>\n",
       "      <td>19766</td>\n",
       "      <td>51.454513,-2.58791</td>\n",
       "    </tr>\n",
       "    <tr>\n",
       "      <th>635526</th>\n",
       "      <td>North Somerset</td>\n",
       "      <td>2022-02-13</td>\n",
       "      <td>18_24</td>\n",
       "      <td>12457</td>\n",
       "      <td>11577</td>\n",
       "      <td>51.3892298341,-2.80066579483</td>\n",
       "    </tr>\n",
       "    <tr>\n",
       "      <th>635527</th>\n",
       "      <td>England</td>\n",
       "      <td>2022-02-13</td>\n",
       "      <td>16_17</td>\n",
       "      <td>924735</td>\n",
       "      <td>669519</td>\n",
       "      <td>None</td>\n",
       "    </tr>\n",
       "    <tr>\n",
       "      <th>635528</th>\n",
       "      <td>England</td>\n",
       "      <td>2022-02-13</td>\n",
       "      <td>85_89</td>\n",
       "      <td>827647</td>\n",
       "      <td>821919</td>\n",
       "      <td>None</td>\n",
       "    </tr>\n",
       "  </tbody>\n",
       "</table>\n",
       "<p>635529 rows × 6 columns</p>\n",
       "</div>"
      ],
      "text/plain": [
       "                    Area name Vaccination date Age group  \\\n",
       "0       South Gloucestershire       2021-07-07     55_59   \n",
       "1       South Gloucestershire       2021-06-30     45_49   \n",
       "2       South Gloucestershire       2021-06-30     50_54   \n",
       "3       South Gloucestershire       2021-06-30     55_59   \n",
       "4       South Gloucestershire       2021-07-06     75_79   \n",
       "...                       ...              ...       ...   \n",
       "635524       Bristol, City of       2022-02-13     18_24   \n",
       "635525       Bristol, City of       2022-02-13     60_64   \n",
       "635526         North Somerset       2022-02-13     18_24   \n",
       "635527                England       2022-02-13     16_17   \n",
       "635528                England       2022-02-13     85_89   \n",
       "\n",
       "       Cumulative first dose vaccinations Cumulative second dose vaccinations  \\\n",
       "0                                   19314                               18704   \n",
       "1                                   16964                               11411   \n",
       "2                                   19533                               18814   \n",
       "3                                   19298                               18617   \n",
       "4                                   11167                               11080   \n",
       "...                                   ...                                 ...   \n",
       "635524                              49507                               43546   \n",
       "635525                              20099                               19766   \n",
       "635526                              12457                               11577   \n",
       "635527                             924735                              669519   \n",
       "635528                             827647                              821919   \n",
       "\n",
       "                        geo_point_2d  \n",
       "0       51.5468677188,-2.47061248413  \n",
       "1       51.5468677188,-2.47061248413  \n",
       "2       51.5468677188,-2.47061248413  \n",
       "3       51.5468677188,-2.47061248413  \n",
       "4       51.5468677188,-2.47061248413  \n",
       "...                              ...  \n",
       "635524            51.454513,-2.58791  \n",
       "635525            51.454513,-2.58791  \n",
       "635526  51.3892298341,-2.80066579483  \n",
       "635527                          None  \n",
       "635528                          None  \n",
       "\n",
       "[635529 rows x 6 columns]"
      ]
     },
     "execution_count": 6,
     "metadata": {},
     "output_type": "execute_result"
    }
   ],
   "source": [
    "# convert dataframe to pandas dataframe\n",
    "df.toPandas()"
   ]
  },
  {
   "cell_type": "code",
   "execution_count": 8,
   "metadata": {
    "collapsed": false,
    "pycharm": {
     "name": "#%%\n"
    }
   },
   "outputs": [
    {
     "name": "stderr",
     "output_type": "stream",
     "text": [
      "[Stage 5:=======>                                                   (1 + 7) / 8]\r"
     ]
    },
    {
     "name": "stdout",
     "output_type": "stream",
     "text": [
      "+-------+--------------------+----------------+---------+----------------------------------+-----------------------------------+--------------------+\n",
      "|summary|           Area name|Vaccination date|Age group|Cumulative first dose vaccinations|Cumulative second dose vaccinations|        geo_point_2d|\n",
      "+-------+--------------------+----------------+---------+----------------------------------+-----------------------------------+--------------------+\n",
      "|  count|              635529|          635529|   635529|                            635529|                             635529|              429806|\n",
      "|   mean|                null|            null|     null|                 503306.0769988466|                 250231.77263665388|                null|\n",
      "| stddev|                null|            null|     null|                  977247.718181228|                  660790.6894958996|                null|\n",
      "|    min|Bath and North Ea...|      2020-12-08|    12_15|                                 0|                                  0|51.3559707863,-2....|\n",
      "|    max|South Gloucesters...|      2022-03-02|      90+|                            999963|                             999949|51.5468677188,-2....|\n",
      "+-------+--------------------+----------------+---------+----------------------------------+-----------------------------------+--------------------+\n",
      "\n"
     ]
    },
    {
     "name": "stderr",
     "output_type": "stream",
     "text": [
      "                                                                                \r"
     ]
    }
   ],
   "source": [
    "# show statistics\n",
    "df.describe().show()"
   ]
  },
  {
   "cell_type": "code",
   "execution_count": 9,
   "metadata": {
    "collapsed": false,
    "pycharm": {
     "name": "#%%\n"
    }
   },
   "outputs": [
    {
     "name": "stderr",
     "output_type": "stream",
     "text": [
      "                                                                                \r"
     ]
    },
    {
     "data": {
      "text/html": [
       "<div>\n",
       "<style scoped>\n",
       "    .dataframe tbody tr th:only-of-type {\n",
       "        vertical-align: middle;\n",
       "    }\n",
       "\n",
       "    .dataframe tbody tr th {\n",
       "        vertical-align: top;\n",
       "    }\n",
       "\n",
       "    .dataframe thead th {\n",
       "        text-align: right;\n",
       "    }\n",
       "</style>\n",
       "<table border=\"1\" class=\"dataframe\">\n",
       "  <thead>\n",
       "    <tr style=\"text-align: right;\">\n",
       "      <th></th>\n",
       "      <th>summary</th>\n",
       "      <th>Area name</th>\n",
       "      <th>Vaccination date</th>\n",
       "      <th>Age group</th>\n",
       "      <th>Cumulative first dose vaccinations</th>\n",
       "      <th>Cumulative second dose vaccinations</th>\n",
       "      <th>geo_point_2d</th>\n",
       "    </tr>\n",
       "  </thead>\n",
       "  <tbody>\n",
       "    <tr>\n",
       "      <th>0</th>\n",
       "      <td>count</td>\n",
       "      <td>635529</td>\n",
       "      <td>635529</td>\n",
       "      <td>635529</td>\n",
       "      <td>635529</td>\n",
       "      <td>635529</td>\n",
       "      <td>429806</td>\n",
       "    </tr>\n",
       "    <tr>\n",
       "      <th>1</th>\n",
       "      <td>mean</td>\n",
       "      <td>None</td>\n",
       "      <td>None</td>\n",
       "      <td>None</td>\n",
       "      <td>503306.0769988466</td>\n",
       "      <td>250231.77263665388</td>\n",
       "      <td>None</td>\n",
       "    </tr>\n",
       "    <tr>\n",
       "      <th>2</th>\n",
       "      <td>stddev</td>\n",
       "      <td>None</td>\n",
       "      <td>None</td>\n",
       "      <td>None</td>\n",
       "      <td>977247.718181228</td>\n",
       "      <td>660790.6894958996</td>\n",
       "      <td>None</td>\n",
       "    </tr>\n",
       "    <tr>\n",
       "      <th>3</th>\n",
       "      <td>min</td>\n",
       "      <td>Bath and North East Somerset</td>\n",
       "      <td>2020-12-08</td>\n",
       "      <td>12_15</td>\n",
       "      <td>0</td>\n",
       "      <td>0</td>\n",
       "      <td>51.3559707863,-2.47520121048</td>\n",
       "    </tr>\n",
       "    <tr>\n",
       "      <th>4</th>\n",
       "      <td>max</td>\n",
       "      <td>South Gloucestershire</td>\n",
       "      <td>2022-03-02</td>\n",
       "      <td>90+</td>\n",
       "      <td>999963</td>\n",
       "      <td>999949</td>\n",
       "      <td>51.5468677188,-2.47061248413</td>\n",
       "    </tr>\n",
       "  </tbody>\n",
       "</table>\n",
       "</div>"
      ],
      "text/plain": [
       "  summary                     Area name Vaccination date Age group  \\\n",
       "0   count                        635529           635529    635529   \n",
       "1    mean                          None             None      None   \n",
       "2  stddev                          None             None      None   \n",
       "3     min  Bath and North East Somerset       2020-12-08     12_15   \n",
       "4     max         South Gloucestershire       2022-03-02       90+   \n",
       "\n",
       "  Cumulative first dose vaccinations Cumulative second dose vaccinations  \\\n",
       "0                             635529                              635529   \n",
       "1                  503306.0769988466                  250231.77263665388   \n",
       "2                   977247.718181228                   660790.6894958996   \n",
       "3                                  0                                   0   \n",
       "4                             999963                              999949   \n",
       "\n",
       "                   geo_point_2d  \n",
       "0                        429806  \n",
       "1                          None  \n",
       "2                          None  \n",
       "3  51.3559707863,-2.47520121048  \n",
       "4  51.5468677188,-2.47061248413  "
      ]
     },
     "execution_count": 9,
     "metadata": {},
     "output_type": "execute_result"
    }
   ],
   "source": [
    "#show statistics as a pandas dataframe\n",
    "df.describe().toPandas()"
   ]
  },
  {
   "cell_type": "code",
   "execution_count": 11,
   "metadata": {
    "collapsed": false,
    "pycharm": {
     "name": "#%%\n"
    }
   },
   "outputs": [
    {
     "data": {
      "text/plain": [
       "[('Area name', 'string'),\n",
       " ('Vaccination date', 'string'),\n",
       " ('Age group', 'string'),\n",
       " ('Cumulative first dose vaccinations', 'string'),\n",
       " ('Cumulative second dose vaccinations', 'string'),\n",
       " ('geo_point_2d', 'string')]"
      ]
     },
     "execution_count": 11,
     "metadata": {},
     "output_type": "execute_result"
    }
   ],
   "source": [
    "# check the datatypes of the dataframe columns\n",
    "df.dtypes"
   ]
  },
  {
   "cell_type": "code",
   "execution_count": 12,
   "metadata": {
    "collapsed": false,
    "pycharm": {
     "name": "#%%\n"
    }
   },
   "outputs": [
    {
     "data": {
      "text/plain": [
       "[('Area name', 'string'),\n",
       " ('Vaccination date', 'date'),\n",
       " ('Age group', 'string'),\n",
       " ('Cumulative first dose vaccinations', 'int'),\n",
       " ('Cumulative second dose vaccinations', 'int'),\n",
       " ('geo_point_2d', 'string')]"
      ]
     },
     "execution_count": 12,
     "metadata": {},
     "output_type": "execute_result"
    }
   ],
   "source": [
    "# to convert columns to their appropriate data format\n",
    "from pyspark.sql.functions import col\n",
    "from pyspark.sql.types import StringType,DateType,IntegerType,FloatType,DecimalType\n",
    "\n",
    "df2 = df.withColumn(\"Area name\",col(\"Area name\").cast(StringType())) \\\n",
    "    .withColumn(\"Vaccination date\",col(\"Vaccination date\").cast(DateType())) \\\n",
    "    .withColumn(\"Age group\",col(\"Age group\").cast(StringType())) \\\n",
    "    .withColumn(\"Cumulative first dose vaccinations\",col(\"Cumulative first dose vaccinations\").cast(IntegerType())) \\\n",
    "    .withColumn(\"Cumulative second dose vaccinations\",col(\"Cumulative second dose vaccinations\").cast(IntegerType())) \\\n",
    "    .withColumn(\"geo_point_2d\",col(\"geo_point_2d\").cast(StringType()))\n",
    "df2.dtypes"
   ]
  },
  {
   "cell_type": "code",
   "execution_count": 13,
   "metadata": {
    "collapsed": false,
    "pycharm": {
     "name": "#%%\n"
    }
   },
   "outputs": [
    {
     "name": "stderr",
     "output_type": "stream",
     "text": [
      "[Stage 11:=======>                                                  (1 + 7) / 8]\r"
     ]
    },
    {
     "name": "stdout",
     "output_type": "stream",
     "text": [
      "+-------+----------------------------------+\n",
      "|summary|Cumulative first dose vaccinations|\n",
      "+-------+----------------------------------+\n",
      "|  count|                            635529|\n",
      "|   mean|                 503306.0769988466|\n",
      "| stddev|                  977247.718181228|\n",
      "|    min|                                 0|\n",
      "|    max|                            999963|\n",
      "+-------+----------------------------------+\n",
      "\n"
     ]
    },
    {
     "name": "stderr",
     "output_type": "stream",
     "text": [
      "                                                                                \r"
     ]
    }
   ],
   "source": [
    "#describing Cumulative first dose vaccinations\n",
    "df.describe(['Cumulative first dose vaccinations']).show()"
   ]
  },
  {
   "cell_type": "code",
   "execution_count": 14,
   "metadata": {
    "collapsed": false,
    "pycharm": {
     "name": "#%%\n"
    }
   },
   "outputs": [
    {
     "name": "stderr",
     "output_type": "stream",
     "text": [
      "[Stage 14:=======>                                                  (1 + 7) / 8]\r"
     ]
    },
    {
     "name": "stdout",
     "output_type": "stream",
     "text": [
      "+-------+-----------------------------------+\n",
      "|summary|Cumulative second dose vaccinations|\n",
      "+-------+-----------------------------------+\n",
      "|  count|                             635529|\n",
      "|   mean|                 250231.77263665388|\n",
      "| stddev|                  660790.6894958996|\n",
      "|    min|                                  0|\n",
      "|    max|                             999949|\n",
      "+-------+-----------------------------------+\n",
      "\n"
     ]
    },
    {
     "name": "stderr",
     "output_type": "stream",
     "text": [
      "                                                                                \r"
     ]
    }
   ],
   "source": [
    "#describing Cumulative second dose vaccinations\n",
    "df.describe(['Cumulative second dose vaccinations']).show()"
   ]
  },
  {
   "cell_type": "code",
   "execution_count": 17,
   "metadata": {
    "collapsed": false,
    "pycharm": {
     "name": "#%%\n"
    }
   },
   "outputs": [
    {
     "name": "stdout",
     "output_type": "stream",
     "text": [
      "0.804078154408801\n"
     ]
    },
    {
     "name": "stderr",
     "output_type": "stream",
     "text": [
      "                                                                                \r"
     ]
    },
    {
     "name": "stdout",
     "output_type": "stream",
     "text": [
      "0.804078154408801\n"
     ]
    }
   ],
   "source": [
    "# correlation before dropping null values\n",
    "df = df2.toPandas()\n",
    "co=df['Cumulative first dose vaccinations'].corr(df['Cumulative second dose vaccinations'])\n",
    "print(co)\n"
   ]
  },
  {
   "cell_type": "code",
   "execution_count": 16,
   "metadata": {
    "collapsed": false,
    "pycharm": {
     "name": "#%%\n"
    }
   },
   "outputs": [
    {
     "name": "stderr",
     "output_type": "stream",
     "text": [
      "                                                                                \r"
     ]
    },
    {
     "name": "stdout",
     "output_type": "stream",
     "text": [
      "+---------+----------------+---------+----------------------------------+-----------------------------------+------------+\n",
      "|Area name|Vaccination date|Age group|Cumulative first dose vaccinations|Cumulative second dose vaccinations|geo_point_2d|\n",
      "+---------+----------------+---------+----------------------------------+-----------------------------------+------------+\n",
      "|        0|               0|        0|                                 0|                                  0|      205723|\n",
      "+---------+----------------+---------+----------------------------------+-----------------------------------+------------+\n",
      "\n"
     ]
    }
   ],
   "source": [
    "# check where null values exist\n",
    "from pyspark.sql.functions import isnull, when, count\n",
    "df2.select([count(when(isnull(c), c)).alias(c) for c in df2.columns]).show()"
   ]
  },
  {
   "cell_type": "code",
   "execution_count": 18,
   "metadata": {
    "collapsed": false,
    "pycharm": {
     "name": "#%%\n"
    }
   },
   "outputs": [
    {
     "name": "stderr",
     "output_type": "stream",
     "text": [
      "                                                                                \r"
     ]
    },
    {
     "data": {
      "text/html": [
       "<div>\n",
       "<style scoped>\n",
       "    .dataframe tbody tr th:only-of-type {\n",
       "        vertical-align: middle;\n",
       "    }\n",
       "\n",
       "    .dataframe tbody tr th {\n",
       "        vertical-align: top;\n",
       "    }\n",
       "\n",
       "    .dataframe thead th {\n",
       "        text-align: right;\n",
       "    }\n",
       "</style>\n",
       "<table border=\"1\" class=\"dataframe\">\n",
       "  <thead>\n",
       "    <tr style=\"text-align: right;\">\n",
       "      <th></th>\n",
       "      <th>Area name</th>\n",
       "      <th>Vaccination date</th>\n",
       "      <th>Age group</th>\n",
       "      <th>Cumulative first dose vaccinations</th>\n",
       "      <th>Cumulative second dose vaccinations</th>\n",
       "      <th>geo_point_2d</th>\n",
       "    </tr>\n",
       "  </thead>\n",
       "  <tbody>\n",
       "    <tr>\n",
       "      <th>0</th>\n",
       "      <td>South Gloucestershire</td>\n",
       "      <td>2021-07-07</td>\n",
       "      <td>55_59</td>\n",
       "      <td>19314</td>\n",
       "      <td>18704</td>\n",
       "      <td>51.5468677188,-2.47061248413</td>\n",
       "    </tr>\n",
       "    <tr>\n",
       "      <th>1</th>\n",
       "      <td>South Gloucestershire</td>\n",
       "      <td>2021-06-30</td>\n",
       "      <td>45_49</td>\n",
       "      <td>16964</td>\n",
       "      <td>11411</td>\n",
       "      <td>51.5468677188,-2.47061248413</td>\n",
       "    </tr>\n",
       "    <tr>\n",
       "      <th>2</th>\n",
       "      <td>South Gloucestershire</td>\n",
       "      <td>2021-06-30</td>\n",
       "      <td>50_54</td>\n",
       "      <td>19533</td>\n",
       "      <td>18814</td>\n",
       "      <td>51.5468677188,-2.47061248413</td>\n",
       "    </tr>\n",
       "    <tr>\n",
       "      <th>3</th>\n",
       "      <td>South Gloucestershire</td>\n",
       "      <td>2021-06-30</td>\n",
       "      <td>55_59</td>\n",
       "      <td>19298</td>\n",
       "      <td>18617</td>\n",
       "      <td>51.5468677188,-2.47061248413</td>\n",
       "    </tr>\n",
       "    <tr>\n",
       "      <th>4</th>\n",
       "      <td>South Gloucestershire</td>\n",
       "      <td>2021-07-06</td>\n",
       "      <td>75_79</td>\n",
       "      <td>11167</td>\n",
       "      <td>11080</td>\n",
       "      <td>51.5468677188,-2.47061248413</td>\n",
       "    </tr>\n",
       "    <tr>\n",
       "      <th>...</th>\n",
       "      <td>...</td>\n",
       "      <td>...</td>\n",
       "      <td>...</td>\n",
       "      <td>...</td>\n",
       "      <td>...</td>\n",
       "      <td>...</td>\n",
       "    </tr>\n",
       "    <tr>\n",
       "      <th>429801</th>\n",
       "      <td>North Somerset</td>\n",
       "      <td>2022-02-15</td>\n",
       "      <td>55_59</td>\n",
       "      <td>15416</td>\n",
       "      <td>15242</td>\n",
       "      <td>51.3892298341,-2.80066579483</td>\n",
       "    </tr>\n",
       "    <tr>\n",
       "      <th>429802</th>\n",
       "      <td>North Somerset</td>\n",
       "      <td>2022-02-15</td>\n",
       "      <td>70_74</td>\n",
       "      <td>13457</td>\n",
       "      <td>13393</td>\n",
       "      <td>51.3892298341,-2.80066579483</td>\n",
       "    </tr>\n",
       "    <tr>\n",
       "      <th>429803</th>\n",
       "      <td>Bristol, City of</td>\n",
       "      <td>2022-02-13</td>\n",
       "      <td>18_24</td>\n",
       "      <td>49507</td>\n",
       "      <td>43546</td>\n",
       "      <td>51.454513,-2.58791</td>\n",
       "    </tr>\n",
       "    <tr>\n",
       "      <th>429804</th>\n",
       "      <td>Bristol, City of</td>\n",
       "      <td>2022-02-13</td>\n",
       "      <td>60_64</td>\n",
       "      <td>20099</td>\n",
       "      <td>19766</td>\n",
       "      <td>51.454513,-2.58791</td>\n",
       "    </tr>\n",
       "    <tr>\n",
       "      <th>429805</th>\n",
       "      <td>North Somerset</td>\n",
       "      <td>2022-02-13</td>\n",
       "      <td>18_24</td>\n",
       "      <td>12457</td>\n",
       "      <td>11577</td>\n",
       "      <td>51.3892298341,-2.80066579483</td>\n",
       "    </tr>\n",
       "  </tbody>\n",
       "</table>\n",
       "<p>429806 rows × 6 columns</p>\n",
       "</div>"
      ],
      "text/plain": [
       "                    Area name Vaccination date Age group  \\\n",
       "0       South Gloucestershire       2021-07-07     55_59   \n",
       "1       South Gloucestershire       2021-06-30     45_49   \n",
       "2       South Gloucestershire       2021-06-30     50_54   \n",
       "3       South Gloucestershire       2021-06-30     55_59   \n",
       "4       South Gloucestershire       2021-07-06     75_79   \n",
       "...                       ...              ...       ...   \n",
       "429801         North Somerset       2022-02-15     55_59   \n",
       "429802         North Somerset       2022-02-15     70_74   \n",
       "429803       Bristol, City of       2022-02-13     18_24   \n",
       "429804       Bristol, City of       2022-02-13     60_64   \n",
       "429805         North Somerset       2022-02-13     18_24   \n",
       "\n",
       "        Cumulative first dose vaccinations  \\\n",
       "0                                    19314   \n",
       "1                                    16964   \n",
       "2                                    19533   \n",
       "3                                    19298   \n",
       "4                                    11167   \n",
       "...                                    ...   \n",
       "429801                               15416   \n",
       "429802                               13457   \n",
       "429803                               49507   \n",
       "429804                               20099   \n",
       "429805                               12457   \n",
       "\n",
       "        Cumulative second dose vaccinations                  geo_point_2d  \n",
       "0                                     18704  51.5468677188,-2.47061248413  \n",
       "1                                     11411  51.5468677188,-2.47061248413  \n",
       "2                                     18814  51.5468677188,-2.47061248413  \n",
       "3                                     18617  51.5468677188,-2.47061248413  \n",
       "4                                     11080  51.5468677188,-2.47061248413  \n",
       "...                                     ...                           ...  \n",
       "429801                                15242  51.3892298341,-2.80066579483  \n",
       "429802                                13393  51.3892298341,-2.80066579483  \n",
       "429803                                43546            51.454513,-2.58791  \n",
       "429804                                19766            51.454513,-2.58791  \n",
       "429805                                11577  51.3892298341,-2.80066579483  \n",
       "\n",
       "[429806 rows x 6 columns]"
      ]
     },
     "execution_count": 18,
     "metadata": {},
     "output_type": "execute_result"
    }
   ],
   "source": [
    "# remove null values\n",
    "df2 = df2.replace('?', None) \\\n",
    "    .dropna(how='any')\n",
    "\n",
    "# Drop unnecessary columns\n",
    "# df2 = df2.drop('')\n",
    "# df2 = df2.drop('')\n",
    "\n",
    "df2.toPandas()"
   ]
  },
  {
   "cell_type": "code",
   "execution_count": 19,
   "metadata": {
    "collapsed": false,
    "pycharm": {
     "name": "#%%\n"
    }
   },
   "outputs": [
    {
     "name": "stderr",
     "output_type": "stream",
     "text": [
      "[Stage 25:>                                                         (0 + 1) / 1]\r"
     ]
    },
    {
     "name": "stdout",
     "output_type": "stream",
     "text": [
      "+-------+--------------------+---------+----------------------------------+-----------------------------------+--------------------+\n",
      "|summary|           Area name|Age group|Cumulative first dose vaccinations|Cumulative second dose vaccinations|        geo_point_2d|\n",
      "+-------+--------------------+---------+----------------------------------+-----------------------------------+--------------------+\n",
      "|  count|              429806|   429806|                            429806|                             429806|              429806|\n",
      "|   mean|                null|     null|                 9846.110542896098|                 5085.0945286943415|                null|\n",
      "| stddev|                null|     null|                 7064.787413481537|                  5566.919561870152|                null|\n",
      "|    min|Bath and North Ea...|    12_15|                                 0|                                  0|51.3559707863,-2....|\n",
      "|    max|South Gloucesters...|      90+|                             49936|                              44050|51.5468677188,-2....|\n",
      "+-------+--------------------+---------+----------------------------------+-----------------------------------+--------------------+\n",
      "\n"
     ]
    },
    {
     "name": "stderr",
     "output_type": "stream",
     "text": [
      "                                                                                \r"
     ]
    }
   ],
   "source": [
    "# show statistics\n",
    "df2.describe().show()"
   ]
  },
  {
   "cell_type": "code",
   "execution_count": 20,
   "metadata": {
    "collapsed": false,
    "pycharm": {
     "name": "#%%\n"
    }
   },
   "outputs": [
    {
     "name": "stderr",
     "output_type": "stream",
     "text": [
      "                                                                                \r"
     ]
    },
    {
     "data": {
      "text/html": [
       "<div>\n",
       "<style scoped>\n",
       "    .dataframe tbody tr th:only-of-type {\n",
       "        vertical-align: middle;\n",
       "    }\n",
       "\n",
       "    .dataframe tbody tr th {\n",
       "        vertical-align: top;\n",
       "    }\n",
       "\n",
       "    .dataframe thead th {\n",
       "        text-align: right;\n",
       "    }\n",
       "</style>\n",
       "<table border=\"1\" class=\"dataframe\">\n",
       "  <thead>\n",
       "    <tr style=\"text-align: right;\">\n",
       "      <th></th>\n",
       "      <th>summary</th>\n",
       "      <th>Area name</th>\n",
       "      <th>Age group</th>\n",
       "      <th>Cumulative first dose vaccinations</th>\n",
       "      <th>Cumulative second dose vaccinations</th>\n",
       "      <th>geo_point_2d</th>\n",
       "    </tr>\n",
       "  </thead>\n",
       "  <tbody>\n",
       "    <tr>\n",
       "      <th>0</th>\n",
       "      <td>count</td>\n",
       "      <td>429806</td>\n",
       "      <td>429806</td>\n",
       "      <td>429806</td>\n",
       "      <td>429806</td>\n",
       "      <td>429806</td>\n",
       "    </tr>\n",
       "    <tr>\n",
       "      <th>1</th>\n",
       "      <td>mean</td>\n",
       "      <td>None</td>\n",
       "      <td>None</td>\n",
       "      <td>9846.110542896098</td>\n",
       "      <td>5085.0945286943415</td>\n",
       "      <td>None</td>\n",
       "    </tr>\n",
       "    <tr>\n",
       "      <th>2</th>\n",
       "      <td>stddev</td>\n",
       "      <td>None</td>\n",
       "      <td>None</td>\n",
       "      <td>7064.787413481537</td>\n",
       "      <td>5566.919561870152</td>\n",
       "      <td>None</td>\n",
       "    </tr>\n",
       "    <tr>\n",
       "      <th>3</th>\n",
       "      <td>min</td>\n",
       "      <td>Bath and North East Somerset</td>\n",
       "      <td>12_15</td>\n",
       "      <td>0</td>\n",
       "      <td>0</td>\n",
       "      <td>51.3559707863,-2.47520121048</td>\n",
       "    </tr>\n",
       "    <tr>\n",
       "      <th>4</th>\n",
       "      <td>max</td>\n",
       "      <td>South Gloucestershire</td>\n",
       "      <td>90+</td>\n",
       "      <td>49936</td>\n",
       "      <td>44050</td>\n",
       "      <td>51.5468677188,-2.47061248413</td>\n",
       "    </tr>\n",
       "  </tbody>\n",
       "</table>\n",
       "</div>"
      ],
      "text/plain": [
       "  summary                     Area name Age group  \\\n",
       "0   count                        429806    429806   \n",
       "1    mean                          None      None   \n",
       "2  stddev                          None      None   \n",
       "3     min  Bath and North East Somerset     12_15   \n",
       "4     max         South Gloucestershire       90+   \n",
       "\n",
       "  Cumulative first dose vaccinations Cumulative second dose vaccinations  \\\n",
       "0                             429806                              429806   \n",
       "1                  9846.110542896098                  5085.0945286943415   \n",
       "2                  7064.787413481537                   5566.919561870152   \n",
       "3                                  0                                   0   \n",
       "4                              49936                               44050   \n",
       "\n",
       "                   geo_point_2d  \n",
       "0                        429806  \n",
       "1                          None  \n",
       "2                          None  \n",
       "3  51.3559707863,-2.47520121048  \n",
       "4  51.5468677188,-2.47061248413  "
      ]
     },
     "execution_count": 20,
     "metadata": {},
     "output_type": "execute_result"
    }
   ],
   "source": [
    "#show statistics as a pandas dataframe\n",
    "df2.describe().toPandas()"
   ]
  },
  {
   "cell_type": "code",
   "execution_count": 21,
   "metadata": {
    "collapsed": false,
    "pycharm": {
     "name": "#%%\n"
    }
   },
   "outputs": [
    {
     "name": "stderr",
     "output_type": "stream",
     "text": [
      "[Stage 29:=======>                                                  (1 + 7) / 8]\r"
     ]
    },
    {
     "name": "stdout",
     "output_type": "stream",
     "text": [
      "+-------+----------------------------------+\n",
      "|summary|Cumulative first dose vaccinations|\n",
      "+-------+----------------------------------+\n",
      "|  count|                            429806|\n",
      "|   mean|                 9846.110542896098|\n",
      "| stddev|                 7064.787413481537|\n",
      "|    min|                                 0|\n",
      "|    max|                             49936|\n",
      "+-------+----------------------------------+\n",
      "\n"
     ]
    },
    {
     "name": "stderr",
     "output_type": "stream",
     "text": [
      "                                                                                \r"
     ]
    }
   ],
   "source": [
    "#describing Cumulative first dose vaccinations\n",
    "df2.describe(['Cumulative first dose vaccinations']).show()"
   ]
  },
  {
   "cell_type": "code",
   "execution_count": 22,
   "metadata": {
    "collapsed": false,
    "pycharm": {
     "name": "#%%\n"
    }
   },
   "outputs": [
    {
     "name": "stderr",
     "output_type": "stream",
     "text": [
      "                                                                                \r"
     ]
    },
    {
     "name": "stdout",
     "output_type": "stream",
     "text": [
      "+-------+-----------------------------------+\n",
      "|summary|Cumulative second dose vaccinations|\n",
      "+-------+-----------------------------------+\n",
      "|  count|                             429806|\n",
      "|   mean|                 5085.0945286943415|\n",
      "| stddev|                  5566.919561870152|\n",
      "|    min|                                  0|\n",
      "|    max|                              44050|\n",
      "+-------+-----------------------------------+\n",
      "\n"
     ]
    }
   ],
   "source": [
    "#describing Cumulative second dose vaccinations\n",
    "df2.describe(['Cumulative second dose vaccinations']).show()"
   ]
  },
  {
   "cell_type": "code",
   "execution_count": 23,
   "metadata": {
    "collapsed": false,
    "pycharm": {
     "name": "#%%\n"
    }
   },
   "outputs": [
    {
     "name": "stderr",
     "output_type": "stream",
     "text": [
      "                                                                                \r"
     ]
    },
    {
     "name": "stdout",
     "output_type": "stream",
     "text": [
      "0.6847338260438598\n"
     ]
    }
   ],
   "source": [
    "# correlation after dropping null values\n",
    "df = df2.toPandas()\n",
    "co=df['Cumulative first dose vaccinations'].corr(df['Cumulative second dose vaccinations'])\n",
    "print(co)\n"
   ]
  },
  {
   "cell_type": "code",
   "execution_count": 24,
   "metadata": {
    "collapsed": false,
    "pycharm": {
     "name": "#%%\n"
    }
   },
   "outputs": [],
   "source": [
    "#  creates a temporary view covid_table for SQL query\n",
    "df2.createOrReplaceTempView(\"covid_table\")"
   ]
  },
  {
   "cell_type": "code",
   "execution_count": 25,
   "metadata": {
    "collapsed": false,
    "pycharm": {
     "name": "#%%\n"
    }
   },
   "outputs": [
    {
     "name": "stderr",
     "output_type": "stream",
     "text": [
      "[Stage 36:=======>                                                  (1 + 7) / 8]\r"
     ]
    },
    {
     "name": "stdout",
     "output_type": "stream",
     "text": [
      "+------+\n",
      "| count|\n",
      "+------+\n",
      "|429806|\n",
      "+------+\n",
      "\n"
     ]
    },
    {
     "name": "stderr",
     "output_type": "stream",
     "text": [
      "                                                                                \r"
     ]
    }
   ],
   "source": [
    "# query to check how many rows exists\n",
    "spark.sql(\"SELECT count(*) as count from covid_table\").show()"
   ]
  },
  {
   "cell_type": "code",
   "execution_count": 34,
   "metadata": {
    "collapsed": false,
    "pycharm": {
     "name": "#%%\n"
    }
   },
   "outputs": [
    {
     "name": "stderr",
     "output_type": "stream",
     "text": [
      "[Stage 60:>                                                         (0 + 8) / 8]\r"
     ]
    },
    {
     "name": "stdout",
     "output_type": "stream",
     "text": [
      "+---------+---------------------------------------+----------------------------------------+\n",
      "|Age group|sum(Cumulative first dose vaccinations)|sum(Cumulative second dose vaccinations)|\n",
      "+---------+---------------------------------------+----------------------------------------+\n",
      "|    55_59|                              428601746|                               227974065|\n",
      "|    50_54|                              410709206|                               218566884|\n",
      "|    60_64|                              333325037|                               183557004|\n",
      "|    45_49|                              327176498|                               158622129|\n",
      "|    40_44|                              316506581|                               141672943|\n",
      "|    70_74|                              314305569|                               196906671|\n",
      "|    35_39|                              295975057|                               122080783|\n",
      "|    18_24|                              293994499|                               104988480|\n",
      "|    65_69|                              293795836|                               175566970|\n",
      "|    30_34|                              291598240|                               115893753|\n",
      "|    75_79|                              251382655|                               155979507|\n",
      "|    25_29|                              241624691|                                95824033|\n",
      "|    80_84|                              206616954|                               139315725|\n",
      "|    85_89|                              137492287|                                92407121|\n",
      "|      90+|                               80643522|                                53621991|\n",
      "|    16_17|                                4692791|                                 2035199|\n",
      "|    12_15|                                3476219|                                  590881|\n",
      "+---------+---------------------------------------+----------------------------------------+\n",
      "\n"
     ]
    },
    {
     "name": "stderr",
     "output_type": "stream",
     "text": [
      "                                                                                \r"
     ]
    }
   ],
   "source": [
    "# selecting age group, cumulative sum of first and second dose\n",
    "spark.sql(\"SELECT  `Age group`, SUM(`Cumulative first dose vaccinations`) ,SUM(`Cumulative second dose vaccinations`) from covid_table group by `Age group` order by  SUM(`Cumulative first dose vaccinations`) DESC ,SUM(`Cumulative second dose vaccinations`) DESC\").show()"
   ]
  },
  {
   "cell_type": "markdown",
   "metadata": {
    "collapsed": false,
    "pycharm": {
     "name": "#%% md\n"
    }
   },
   "source": [
    "# Information\n",
    "People that belong to age group 50-64, had the highest number of vaccinations\n",
    "People aged below 17 had the lowest vaccinations and No vaccination dose were recorded for people less than 12\n",
    "\n",
    "# Knowledge\n",
    "People in ages 50-64 had more recorded vaccinations because they are more susceptible to covid outbreak\n",
    "People younger than 18 were vaccinated less because the older ones are more prone to getting the covid because of weaker immune system therefore there is a need to raise awareness for more younger people to take their jab\n",
    "\n"
   ]
  },
  {
   "cell_type": "code",
   "execution_count": 38,
   "metadata": {
    "collapsed": false,
    "pycharm": {
     "name": "#%%\n"
    }
   },
   "outputs": [
    {
     "name": "stderr",
     "output_type": "stream",
     "text": [
      "                                                                                \r"
     ]
    },
    {
     "name": "stdout",
     "output_type": "stream",
     "text": [
      "+----------------------+---------------------------------------+----------------------------------------+\n",
      "|year(Vaccination date)|sum(Cumulative first dose vaccinations)|sum(Cumulative second dose vaccinations)|\n",
      "+----------------------+---------------------------------------+----------------------------------------+\n",
      "|                  2021|                             4173346133|                              2132996081|\n",
      "|                  2022|                               56211346|                                52607947|\n",
      "|                  2020|                                2359909|                                     111|\n",
      "+----------------------+---------------------------------------+----------------------------------------+\n",
      "\n"
     ]
    }
   ],
   "source": [
    "# select table of cumulative first and second dose and group by year\n",
    "spark.sql(\"SELECT  Year(`Vaccination date`), SUM(`Cumulative first dose vaccinations`) ,SUM(`Cumulative second dose vaccinations`) from covid_table group by  Year(`Vaccination date`) order by  SUM(`Cumulative first dose vaccinations`) DESC ,SUM(`Cumulative second dose vaccinations`) DESC\").show()"
   ]
  },
  {
   "cell_type": "markdown",
   "metadata": {
    "collapsed": false,
    "pycharm": {
     "name": "#%% md\n"
    }
   },
   "source": [
    "# Information\n",
    "2021 had the highest number of vaccinations\n",
    "111 people took their second dose in 2020\n",
    "# Knowledge\n",
    "More people were increasingly aware of covid scare\n",
    "Fewer people took their first and second jab because vaccinations were introduced late 2020\n",
    "\n",
    "\n",
    "\n"
   ]
  },
  {
   "cell_type": "code",
   "execution_count": 37,
   "metadata": {
    "collapsed": false,
    "pycharm": {
     "name": "#%%\n"
    }
   },
   "outputs": [
    {
     "name": "stderr",
     "output_type": "stream",
     "text": [
      "[Stage 69:>                                                         (0 + 8) / 8]\r"
     ]
    },
    {
     "name": "stdout",
     "output_type": "stream",
     "text": [
      "+--------------------+---------------------------------------+----------------------------------------+\n",
      "|           Area name|sum(Cumulative first dose vaccinations)|sum(Cumulative second dose vaccinations)|\n",
      "+--------------------+---------------------------------------+----------------------------------------+\n",
      "|    Bristol, City of|                             1737607833|                               861039060|\n",
      "|South Gloucesters...|                             1096397334|                               573693170|\n",
      "|      North Somerset|                              812452204|                               441900472|\n",
      "|Bath and North Ea...|                              585460017|                               308971437|\n",
      "+--------------------+---------------------------------------+----------------------------------------+\n",
      "\n"
     ]
    },
    {
     "name": "stderr",
     "output_type": "stream",
     "text": [
      "                                                                                \r"
     ]
    }
   ],
   "source": [
    "# select table of cumulative first and second dose and group by year\n",
    "spark.sql(\"SELECT  `Area name`, SUM(`Cumulative first dose vaccinations`) ,SUM(`Cumulative second dose vaccinations`) from covid_table group by `Area name` order by  SUM(`Cumulative first dose vaccinations`) DESC ,SUM(`Cumulative second dose vaccinations`) DESC \").show()"
   ]
  },
  {
   "cell_type": "markdown",
   "metadata": {
    "collapsed": false,
    "pycharm": {
     "name": "#%% md\n"
    }
   },
   "source": [
    "# Information\n",
    "Bristol City had the highest number of recorded first and second dose\n",
    "# Knowledge\n",
    "More people live in bristol city than other areas , hence their high recorded vaccinations done\n",
    "\n",
    "\n"
   ]
  },
  {
   "cell_type": "code",
   "execution_count": 43,
   "metadata": {
    "collapsed": false,
    "pycharm": {
     "name": "#%%\n"
    }
   },
   "outputs": [
    {
     "name": "stderr",
     "output_type": "stream",
     "text": [
      "[Stage 87:>                                                         (0 + 8) / 8]\r"
     ]
    },
    {
     "name": "stdout",
     "output_type": "stream",
     "text": [
      "+---------+----------------+---------------------------------------+----------------------------------------+\n",
      "|Age group|count(Age group)|avg(Cumulative first dose vaccinations)|avg(Cumulative second dose vaccinations)|\n",
      "+---------+----------------+---------------------------------------+----------------------------------------+\n",
      "|      90+|           34200|                     2357.9977192982456|                      1567.8944736842104|\n",
      "|    18_24|           33807|                      8696.261099772237|                      3105.5248912947022|\n",
      "|    85_89|           33048|                      4160.381475429678|                      2796.1486625514403|\n",
      "|    80_84|           30253|                     6829.6352097312665|                       4605.021816018246|\n",
      "|    25_29|           30241|                      7989.970272147085|                       3168.679375682021|\n",
      "|    30_34|           29958|                      9733.568328993924|                       3868.541057480473|\n",
      "|    35_39|           28423|                     10413.223692080357|                       4295.140660732505|\n",
      "|    55_59|           28225|                      15185.18143489814|                        8077.02621789194|\n",
      "|    40_44|           27139|                     11662.426065809352|                       5220.271306975202|\n",
      "|    50_54|           27010|                     15205.820288781933|                         8092.0727138097|\n",
      "|    75_79|           26049|                      9650.376406004068|                       5987.926868593804|\n",
      "|    45_49|           25436|                     12862.733841799025|                       6236.127103318132|\n",
      "|    60_64|           24590|                     13555.308540056934|                       7464.701260675071|\n",
      "|    70_74|           24266|                     12952.508406824363|                       8114.508818923597|\n",
      "|    65_69|           23731|                     12380.255193628587|                       7398.212043318866|\n",
      "|    16_17|            2802|                      1674.800499643112|                       726.3379728765168|\n",
      "|    12_15|             628|                      5535.380573248408|                       940.8933121019109|\n",
      "+---------+----------------+---------------------------------------+----------------------------------------+\n",
      "\n"
     ]
    },
    {
     "name": "stderr",
     "output_type": "stream",
     "text": [
      "                                                                                \r"
     ]
    }
   ],
   "source": [
    "# no of times people in an age-group were registered to take their vaccine\n",
    "# despite registering more , they averaged less vaccination shots than others\n",
    "spark.sql(\"SELECT  `Age group`, COUNT(`Age group`), AVG(`Cumulative first dose vaccinations`) ,AVG(`Cumulative second dose vaccinations`) from covid_table group by `Age group` order by COUNT(`Age group`) DESC \").show()"
   ]
  },
  {
   "cell_type": "markdown",
   "metadata": {
    "collapsed": false,
    "pycharm": {
     "name": "#%% md\n"
    }
   },
   "source": [
    "# Information\n",
    "People aged 90+ were registered more times to get their vaccines\n",
    "People aged 90+ had one of the least averaged first and second dose vaccinations\n",
    "\n",
    "# Knowledge\n",
    "People aged 90+ were encouraged to come register the most due to being prone to the virus\n",
    "Though they were registered the most, the had one of the least vaccinations per day due to the population of people in that age group\n",
    "\n",
    "\n",
    "\n"
   ]
  },
  {
   "cell_type": "code",
   "execution_count": 40,
   "metadata": {
    "collapsed": false,
    "pycharm": {
     "name": "#%%\n"
    }
   },
   "outputs": [
    {
     "name": "stderr",
     "output_type": "stream",
     "text": [
      "[Stage 78:>                                                         (0 + 8) / 8]\r"
     ]
    },
    {
     "name": "stdout",
     "output_type": "stream",
     "text": [
      "+---------------------------------------+----------------------------------------+\n",
      "|sum(Cumulative first dose vaccinations)|sum(Cumulative second dose vaccinations)|\n",
      "+---------------------------------------+----------------------------------------+\n",
      "|                             4231917388|                              2185604139|\n",
      "+---------------------------------------+----------------------------------------+\n",
      "\n"
     ]
    },
    {
     "name": "stderr",
     "output_type": "stream",
     "text": [
      "                                                                                \r"
     ]
    }
   ],
   "source": [
    "# cumulative sum of first dose vaccinations vs second dose vaccinations\n",
    "spark.sql(\"SELECT  SUM(`Cumulative first dose vaccinations`) ,SUM(`Cumulative second dose vaccinations`) from covid_table \").show()"
   ]
  },
  {
   "cell_type": "markdown",
   "metadata": {
    "collapsed": false,
    "pycharm": {
     "name": "#%% md\n"
    }
   },
   "source": [
    "# Information\n",
    "First dose vaccinations were x2 more than second vaccinations\n",
    "\n",
    "# Knowledge\n",
    "During the heat and initial scare of the pandemic, people took their first dose vaccinations and a fraction decided not to take the second after covid cases reduced.\n",
    "\n",
    "\n",
    "\n"
   ]
  },
  {
   "cell_type": "code",
   "execution_count": 42,
   "metadata": {
    "collapsed": false,
    "pycharm": {
     "name": "#%%\n"
    }
   },
   "outputs": [
    {
     "name": "stderr",
     "output_type": "stream",
     "text": [
      "[Stage 84:=======>                                                  (1 + 7) / 8]\r"
     ]
    },
    {
     "name": "stdout",
     "output_type": "stream",
     "text": [
      "+-----------------------+----------------------+-----------------------+\n",
      "|month(vaccination date)|year(vaccination date)|count(vaccination date)|\n",
      "+-----------------------+----------------------+-----------------------+\n",
      "|                      5|                  2021|                  74566|\n",
      "|                      6|                  2021|                  74423|\n",
      "|                      4|                  2021|                  68484|\n",
      "|                      3|                  2021|                  59089|\n",
      "|                      7|                  2021|                  54665|\n",
      "|                      2|                  2021|                  38919|\n",
      "|                      1|                  2021|                  25718|\n",
      "|                      8|                  2021|                  16497|\n",
      "|                     12|                  2020|                   5105|\n",
      "|                     10|                  2021|                   2108|\n",
      "|                     12|                  2021|                   2108|\n",
      "|                      1|                  2022|                   2108|\n",
      "|                     11|                  2021|                   2040|\n",
      "|                      9|                  2021|                   1936|\n",
      "|                      2|                  2022|                   1904|\n",
      "|                      3|                  2022|                    136|\n",
      "+-----------------------+----------------------+-----------------------+\n",
      "\n"
     ]
    },
    {
     "name": "stderr",
     "output_type": "stream",
     "text": [
      "                                                                                \r"
     ]
    }
   ],
   "source": [
    "spark.sql(\"SELECT MONTH(`vaccination date`), YEAR(`vaccination date`), count(`vaccination date`)  from covid_table group by MONTH(`vaccination date`),YEAR(`vaccination date`) order by count(`vaccination date`) DESC \").show()"
   ]
  },
  {
   "cell_type": "markdown",
   "metadata": {
    "collapsed": false,
    "pycharm": {
     "name": "#%% md\n"
    }
   },
   "source": [
    "# Information\n",
    "May and June 2021 had the highest recorded covid vaccinations\n",
    "\n",
    "#Knowledge\n",
    "May and June 2021 possibly had the highest record covid vaccinations due to more vaccines available and people willing to take.\n",
    "\n",
    "\n",
    "\n"
   ]
  }
 ],
 "metadata": {
  "interpreter": {
   "hash": "ffc85bc72f8044517c06feef503d3a906b4cbc46b78cfa37e181a8d457723180"
  },
  "kernelspec": {
   "display_name": "Python 3.8.8 64-bit ('base': conda)",
   "language": "python",
   "name": "python3"
  },
  "language_info": {
   "codemirror_mode": {
    "name": "ipython",
    "version": 3
   },
   "file_extension": ".py",
   "mimetype": "text/x-python",
   "name": "python",
   "nbconvert_exporter": "python",
   "pygments_lexer": "ipython3",
   "version": "3.8.8"
  }
 },
 "nbformat": 4,
 "nbformat_minor": 4
}
